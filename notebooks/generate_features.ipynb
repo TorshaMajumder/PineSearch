{
 "cells": [
  {
   "cell_type": "code",
   "execution_count": null,
   "id": "a4898a8a-fd6d-4d3e-aaf1-4f55f7150bc7",
   "metadata": {},
   "outputs": [],
   "source": [
    "%pip install astropy"
   ]
  },
  {
   "cell_type": "code",
   "execution_count": 31,
   "id": "95b5ef07-a298-47ec-9ce7-340d7d38987e",
   "metadata": {},
   "outputs": [],
   "source": [
    "# \n",
    "#\n",
    "#\n",
    "import copy\n",
    "import math\n",
    "import numpy as np\n",
    "import pandas as pd\n",
    "import matplotlib.pyplot as plt\n",
    "from scipy.signal import chirp, find_peaks, peak_widths, peak_prominences\n",
    "from scipy import interpolate"
   ]
  },
  {
   "cell_type": "code",
   "execution_count": 3,
   "id": "7bbdc2a3-bdbd-433b-a101-4a1c7e78655b",
   "metadata": {},
   "outputs": [],
   "source": [
    "#\n",
    "# https://github.com/ZwickyTransientFacility/ztf_information/blob/master/field_grid/ZTF_Fields.txt\n",
    "#\n",
    "filename = '/media3/majumder/zwaad/zwad/slsn_data/ZTF_Fields.txt'\n",
    "#\n",
    "infile = open(filename, 'r')\n",
    "lines = infile.readlines()\n",
    "fields = np.ones((1778, 9))\n",
    "ind=0\n",
    "#\n",
    "#\n",
    "#\n",
    "for l in range(1,len(lines)):\n",
    "    \n",
    "    line = lines[l]\n",
    "    sline = line.split()\n",
    "    fields[ind,:] = sline\n",
    "    ind+=1\n",
    "infile.close()  \n",
    "#\n",
    "#\n",
    "#\n",
    "df = pd.DataFrame(fields, columns = ['ID', 'RA', 'DEC', 'Ebv', 'Gal_long', 'Gal_lat', 'Ecl_Long', 'Ecl_Lat', 'Entry'])\n",
    "#\n",
    "#\n",
    "#\n",
    "df_cut = df.loc[(df['Gal_lat']>= 30.00)]"
   ]
  },
  {
   "cell_type": "code",
   "execution_count": null,
   "id": "40a859cb-aedd-4f91-b74d-d57a35b42fea",
   "metadata": {},
   "outputs": [],
   "source": [
    "#\n",
    "#\n",
    "#\n",
    "oid = np.memmap('/media3/majumder/zwaad/zwad/slsn_data/oid_short_r_300.dat', mode='r+', dtype=np.uint64)\n",
    "oid_sort = oid.astype(int)\n",
    "#\n",
    "#\n",
    "#\n",
    "with open('/media3/majumder/zwaad/zwad/slsn_data/feature_short_r_300.name') as f:\n",
    "    names = f.read().split()\n",
    "#\n",
    "#\n",
    "#\n",
    "dtype = [(name, np.float32) for name in names]\n",
    "#\n",
    "#\n",
    "#\n",
    "feature = np.memmap('/media3/majumder/zwaad/zwad/slsn_data/feature_short_r_300.dat', mode='r+', dtype=dtype, shape=oid.shape)\n",
    "# \n",
    "#\n",
    "#\n",
    "np.savetxt('/media3/majumder/zwaad/zwad/slsn_data/oid_my.txt', oid_sort)"
   ]
  },
  {
   "cell_type": "code",
   "execution_count": null,
   "id": "0f5814f3-3b12-46e3-b1c5-c92b39829c96",
   "metadata": {},
   "outputs": [],
   "source": [
    "#\n",
    "#\n",
    "#\n",
    "a = np.array(np.loadtxt('/media3/majumder/zwaad/zwad/slsn_data/oid_my.txt'))\n",
    "#\n",
    "#\n",
    "#\n",
    "a_first = a//10**(12)\n",
    "uniq = np.unique(a_first)\n",
    "common = np.intersect1d(uniq, df_cut['ID'])\n",
    "feature_fl = np.array(feature)\n",
    "#\n",
    "#\n",
    "#\n",
    "mask = np.isin(a_first, common)\n",
    "oid_new = oid*mask\n",
    "oid_n = oid_new[oid_new != 0]\n",
    "#\n",
    "#\n",
    "#\n",
    "n = 0\n",
    "feature_n = np.array(np.ones((len(oid_n))),  dtype = object)\n",
    "#\n",
    "for i in range(len(oid_new)):\n",
    "    if mask[i]:\n",
    "        feature_n[n] = feature_fl[i]\n",
    "        n+=1\n",
    "    else:\n",
    "        continue\n",
    "\n"
   ]
  },
  {
   "cell_type": "code",
   "execution_count": 6,
   "id": "d4c8458e",
   "metadata": {},
   "outputs": [
    {
     "name": "stdout",
     "output_type": "stream",
     "text": [
      "13761212\n",
      "13761212\n"
     ]
    }
   ],
   "source": [
    "print(len(oid_n))\n",
    "print(len(feature_n))"
   ]
  },
  {
   "cell_type": "code",
   "execution_count": 10,
   "id": "b6ff204b-663f-4fd7-a7c8-4606d451f476",
   "metadata": {},
   "outputs": [],
   "source": [
    "#\n",
    "#\n",
    "#\n",
    "oid_save = np.memmap('/media3/majumder/zwaad/zwad/slsn_data/oid_cut30_short_r_300.dat', mode='w+', dtype=np.uint64, shape=oid_n.shape)\n",
    "#\n",
    "#\n",
    "#\n",
    "with open('/media3/majumder/zwaad/zwad/slsn_data/feature_short_r_300.name') as f:\n",
    "    names = f.read().split()\n",
    "#\n",
    "#\n",
    "#\n",
    "dtype = [(name, np.float32) for name in names]\n",
    "feature_save = np.memmap('/media3/majumder/zwaad/zwad/slsn_data/feature_cut30_short_r_300.dat', mode='w+', dtype=dtype, shape=oid_n.shape)"
   ]
  },
  {
   "cell_type": "code",
   "execution_count": 11,
   "id": "c62b0197-07d2-4aa4-b29c-544aa4f796cb",
   "metadata": {},
   "outputs": [],
   "source": [
    "oid_save[:] = oid_n[:]"
   ]
  },
  {
   "cell_type": "code",
   "execution_count": null,
   "id": "6e196717-cf67-46de-b6fe-55ae7c726c34",
   "metadata": {},
   "outputs": [],
   "source": [
    "oid_open = np.memmap('/media3/majumder/zwaad/zwad/slsn_data/oid_cut30_short_r_300.dat', mode='r', dtype=np.uint64)\n",
    "print(oid_open.shape, oid_open[0:10])"
   ]
  },
  {
   "cell_type": "code",
   "execution_count": 16,
   "id": "5e2cde22-b9ea-4e96-8d37-50bcc02c2a85",
   "metadata": {},
   "outputs": [],
   "source": [
    "feature_save[:] = feature_n[:]"
   ]
  },
  {
   "cell_type": "code",
   "execution_count": null,
   "id": "e0478286-8557-4371-98ff-20c253bba439",
   "metadata": {},
   "outputs": [
    {
     "name": "stdout",
     "output_type": "stream",
     "text": [
      "13761212\n"
     ]
    }
   ],
   "source": [
    "feature_open = np.memmap('/media3/majumder/zwaad/zwad/slsn_data/feature_cut30_short_r_300.dat', mode='r', dtype=dtype, shape=oid_n.shape)\n",
    "print(len(feature_open))"
   ]
  }
 ],
 "metadata": {
  "kernelspec": {
   "display_name": "venv_dart",
   "language": "python",
   "name": "python3"
  },
  "language_info": {
   "codemirror_mode": {
    "name": "ipython",
    "version": 3
   },
   "file_extension": ".py",
   "mimetype": "text/x-python",
   "name": "python",
   "nbconvert_exporter": "python",
   "pygments_lexer": "ipython3",
   "version": "3.12.3"
  }
 },
 "nbformat": 4,
 "nbformat_minor": 5
}
